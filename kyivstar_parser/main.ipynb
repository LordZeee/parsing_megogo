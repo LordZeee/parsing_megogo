{
 "cells": [
  {
   "cell_type": "code",
   "execution_count": 1,
   "metadata": {},
   "outputs": [],
   "source": [
    "import time\n",
    "import requests\n",
    "from selenium import webdriver\n",
    "from bs4 import BeautifulSoup\n",
    "import pandas as pd"
   ]
  },
  {
   "cell_type": "code",
   "execution_count": 3,
   "metadata": {},
   "outputs": [],
   "source": [
    "target_url = 'https://tv.kyivstar.ua/ru/'"
   ]
  },
  {
   "cell_type": "code",
   "execution_count": 2,
   "metadata": {},
   "outputs": [],
   "source": [
    "# icon-search-thin\n",
    "# filters-btn\n",
    "\n",
    "# filters-item ng-star-inserted - 2\n",
    "\n",
    "# filterElements-label filterElements-label__item ng-star-inserted - 25\n",
    "\n",
    "# filters-item ng-star-inserted - 4\n",
    "\n",
    "# filterElements-label filterElements-label__item ng-star-inserted - 1 2 3 4\n",
    "\n",
    "# pinnedFilterElements-label filterElements-label__item ng-star-inserted - 2\n",
    "\n",
    "# popup__btn_back - back\n",
    "\n",
    "# filter-buttons__btn-apply - apply"
   ]
  },
  {
   "cell_type": "code",
   "execution_count": 78,
   "metadata": {},
   "outputs": [
    {
     "name": "stderr",
     "output_type": "stream",
     "text": [
      "/tmp/ipykernel_24506/822718081.py:15: DeprecationWarning: find_elements_by_* commands are deprecated. Please use find_elements() instead\n",
      "  driver.find_elements_by_class_name('icon-search-thin')[0].click()\n",
      "/tmp/ipykernel_24506/822718081.py:17: DeprecationWarning: find_element_by_* commands are deprecated. Please use find_element() instead\n",
      "  driver.find_element_by_class_name('filters-btn').click()\n"
     ]
    }
   ],
   "source": [
    "options = webdriver.ChromeOptions()\n",
    "options.add_argument(\"no-sandbox\")\n",
    "options.add_argument(\"--headless\")\n",
    "options.add_argument(\"--disable-gpu\")\n",
    "\n",
    "driver = webdriver.Remote(\n",
    "    command_executor='http://172.30.110.112:4444',\n",
    "    options=options\n",
    ")\n",
    "driver.get(target_url)\n",
    "\n",
    "target_div = 'pagination-more'\n",
    "\n",
    "\n",
    "driver.find_elements_by_class_name('icon-search-thin')[0].click()\n",
    "time.sleep(1)\n",
    "driver.find_element_by_class_name('filters-btn').click()\n",
    "time.sleep(1)\n",
    "\n",
    "# #category\n",
    "# filters = driver.find_elements_by_class_name('filters-item')\n",
    "# filters[0].click()\n",
    "# time.sleep(0.5)\n",
    "# cat_options = driver.find_elements_by_class_name('filterElements-label') # 1 films 2 serials\n",
    "# cat_options[1].click() # film\n",
    "# driver.find_element_by_class_name('filter-buttons__btn-apply').click() # apply\n",
    "# time.sleep(1)\n",
    "\n",
    "# # #genres \n",
    "# # filters = driver.find_elements_by_class_name('filters-item')\n",
    "# # filters[1].click()\n",
    "# # cat_options = driver.find_elements_by_class_name('filterElements-label')\n",
    "# # cat_options[16].click() # melodrama\n",
    "# # time.sleep(0.5)\n",
    "# # driver.find_element_by_class_name('filter-buttons__btn-apply').click() # apply\n",
    "# # time.sleep(1)\n",
    "\n",
    "# #year\n",
    "# filters = driver.find_elements_by_class_name('filters-item')\n",
    "# filters[3].click()\n",
    "# time.sleep(0.5)\n",
    "# year_options = driver.find_elements_by_class_name('filterElements-label')\n",
    "# year_options[0].click() # 2021\n",
    "# year_options[1].click() # 2020\n",
    "# year_options[2].click() # 2019\n",
    "# year_options[3].click() # 2015-18\n",
    "# year_options[4].click() # 2010-14\n",
    "# driver.find_element_by_class_name('filter-buttons__btn-apply').click() # apply\n",
    "# time.sleep(1)\n",
    "\n",
    "# #country\n",
    "# filters = driver.find_elements_by_class_name('filters-item')\n",
    "# filters[4].click()\n",
    "# time.sleep(0.5)\n",
    "# country_options = driver.find_elements_by_class_name('filterElements-label')\n",
    "# ############## EDIT ###############\n",
    "# country = 22 # Russia\n",
    "# country_options[country].click() \n",
    "# # year_options[24].click() # Ukraine\n",
    "# driver.find_element_by_class_name('filter-buttons__btn-apply').click() # apply\n",
    "# time.sleep(1)\n",
    "\n",
    "# driver.find_element_by_class_name('filter-buttons__btn-apply').click() # final apply\n",
    "\n",
    "# SCROLL_PAUSE_TIME = 3\n",
    "\n",
    "# # Get scroll height\n",
    "# last_height = driver.execute_script(\"return document.body.scrollHeight\")\n",
    "\n",
    "# while True:\n",
    "#     # Scroll down to bottom\n",
    "#     driver.execute_script(\"window.scrollTo(0, document.body.scrollHeight);\")\n",
    "#     print('scroll')\n",
    "    # Wait to load page\n",
    "#    time.sleep(SCROLL_PAUSE_TIME)\n",
    "\n",
    "    # Calculate new scroll height and compare with last scroll height\n",
    "    # new_height = driver.execute_script(\"return document.body.scrollHeight\")\n",
    "    # if new_height == last_height:\n",
    "    #     break\n",
    "    # last_height = new_height\n",
    "\n",
    "# results_posters = driver.find_elements_by_class_name('poster__details-link')\n",
    "# html_items = [item.get_attribute('href') for item in results_posters]\n",
    "# # html_items = [item.get_attribute(\"outerHTML\") for item in results_posters]\n",
    "\n",
    "# driver.quit()"
   ]
  },
  {
   "cell_type": "code",
   "execution_count": 79,
   "metadata": {},
   "outputs": [
    {
     "name": "stderr",
     "output_type": "stream",
     "text": [
      "/tmp/ipykernel_24506/3223767472.py:2: DeprecationWarning: find_elements_by_* commands are deprecated. Please use find_elements() instead\n",
      "  filters = driver.find_elements_by_class_name('filters-item')\n",
      "/tmp/ipykernel_24506/3223767472.py:5: DeprecationWarning: find_elements_by_* commands are deprecated. Please use find_elements() instead\n",
      "  cat_options = driver.find_elements_by_class_name('filterElements-label') # 1 films 2 serials\n",
      "/tmp/ipykernel_24506/3223767472.py:7: DeprecationWarning: find_element_by_* commands are deprecated. Please use find_element() instead\n",
      "  driver.find_element_by_class_name('filter-buttons__btn-apply').click() # apply\n"
     ]
    }
   ],
   "source": [
    "#category\n",
    "filters = driver.find_elements_by_class_name('filters-item')\n",
    "filters[0].click()\n",
    "time.sleep(0.5)\n",
    "cat_options = driver.find_elements_by_class_name('filterElements-label') # 1 films 2 serials\n",
    "cat_options[1].click() # film\n",
    "driver.find_element_by_class_name('filter-buttons__btn-apply').click() # apply\n",
    "time.sleep(1)"
   ]
  },
  {
   "cell_type": "code",
   "execution_count": 80,
   "metadata": {},
   "outputs": [
    {
     "name": "stderr",
     "output_type": "stream",
     "text": [
      "/tmp/ipykernel_24506/3554832732.py:2: DeprecationWarning: find_elements_by_* commands are deprecated. Please use find_elements() instead\n",
      "  filters = driver.find_elements_by_class_name('filters-item')\n",
      "/tmp/ipykernel_24506/3554832732.py:5: DeprecationWarning: find_elements_by_* commands are deprecated. Please use find_elements() instead\n",
      "  year_options = driver.find_elements_by_class_name('filterElements-label')\n",
      "/tmp/ipykernel_24506/3554832732.py:11: DeprecationWarning: find_element_by_* commands are deprecated. Please use find_element() instead\n",
      "  driver.find_element_by_class_name('filter-buttons__btn-apply').click() # apply\n"
     ]
    }
   ],
   "source": [
    "#year\n",
    "filters = driver.find_elements_by_class_name('filters-item')\n",
    "filters[3].click()\n",
    "time.sleep(0.5)\n",
    "year_options = driver.find_elements_by_class_name('filterElements-label')\n",
    "year_options[0].click() # 2021\n",
    "year_options[1].click() # 2020\n",
    "year_options[2].click() # 2019\n",
    "year_options[3].click() # 2015-18\n",
    "year_options[4].click() # 2010-14\n",
    "driver.find_element_by_class_name('filter-buttons__btn-apply').click() # apply\n",
    "time.sleep(1)"
   ]
  },
  {
   "cell_type": "code",
   "execution_count": 81,
   "metadata": {},
   "outputs": [
    {
     "name": "stderr",
     "output_type": "stream",
     "text": [
      "/tmp/ipykernel_24506/3372582495.py:2: DeprecationWarning: find_elements_by_* commands are deprecated. Please use find_elements() instead\n",
      "  filters = driver.find_elements_by_class_name('filters-item')\n",
      "/tmp/ipykernel_24506/3372582495.py:5: DeprecationWarning: find_elements_by_* commands are deprecated. Please use find_elements() instead\n",
      "  country_options = driver.find_elements_by_class_name('filterElements-label')\n",
      "/tmp/ipykernel_24506/3372582495.py:10: DeprecationWarning: find_element_by_* commands are deprecated. Please use find_element() instead\n",
      "  driver.find_element_by_class_name('filter-buttons__btn-apply').click() # apply\n"
     ]
    }
   ],
   "source": [
    "#country\n",
    "filters = driver.find_elements_by_class_name('filters-item')\n",
    "filters[4].click()\n",
    "time.sleep(0.5)\n",
    "country_options = driver.find_elements_by_class_name('filterElements-label')\n",
    "############## EDIT ###############\n",
    "country = 18 # Russia\n",
    "country_options[country].click() \n",
    "# year_options[24].click() # Ukraine\n",
    "driver.find_element_by_class_name('filter-buttons__btn-apply').click() # apply\n",
    "time.sleep(1)"
   ]
  },
  {
   "cell_type": "code",
   "execution_count": 82,
   "metadata": {},
   "outputs": [
    {
     "name": "stderr",
     "output_type": "stream",
     "text": [
      "/tmp/ipykernel_24506/493103262.py:1: DeprecationWarning: find_element_by_* commands are deprecated. Please use find_element() instead\n",
      "  driver.find_element_by_class_name('filter-buttons__btn-apply').click() # final apply\n"
     ]
    }
   ],
   "source": [
    "driver.find_element_by_class_name('filter-buttons__btn-apply').click() # final apply"
   ]
  },
  {
   "cell_type": "code",
   "execution_count": 83,
   "metadata": {},
   "outputs": [
    {
     "name": "stdout",
     "output_type": "stream",
     "text": [
      "scroll\n",
      "scroll\n",
      "scroll\n"
     ]
    }
   ],
   "source": [
    "SCROLL_PAUSE_TIME = 3\n",
    "\n",
    "# Get scroll height\n",
    "last_height = driver.execute_script(\"return document.body.scrollHeight\")\n",
    "\n",
    "while True:\n",
    "    # Scroll down to bottom\n",
    "    driver.execute_script(\"window.scrollTo(0, document.body.scrollHeight);\")\n",
    "    print('scroll')\n",
    "    time.sleep(SCROLL_PAUSE_TIME)\n",
    "\n",
    "    new_height = driver.execute_script(\"return document.body.scrollHeight\")\n",
    "    if new_height == last_height:\n",
    "        break\n",
    "    \n",
    "    last_height = new_height\n"
   ]
  },
  {
   "cell_type": "code",
   "execution_count": 84,
   "metadata": {},
   "outputs": [
    {
     "name": "stderr",
     "output_type": "stream",
     "text": [
      "/tmp/ipykernel_24506/873490744.py:1: DeprecationWarning: find_elements_by_* commands are deprecated. Please use find_elements() instead\n",
      "  results_posters = driver.find_elements_by_class_name('poster__details-link')\n"
     ]
    }
   ],
   "source": [
    "results_posters = driver.find_elements_by_class_name('poster__details-link')\n",
    "html_items = [item.get_attribute('href') for item in results_posters]"
   ]
  },
  {
   "cell_type": "code",
   "execution_count": 86,
   "metadata": {},
   "outputs": [],
   "source": [
    "driver.get(html_items[0])"
   ]
  },
  {
   "cell_type": "code",
   "execution_count": 64,
   "metadata": {},
   "outputs": [],
   "source": [
    "driver.quit()"
   ]
  },
  {
   "cell_type": "code",
   "execution_count": 91,
   "metadata": {},
   "outputs": [],
   "source": [
    "countries_dict = {18 : 'Russia'}"
   ]
  },
  {
   "cell_type": "code",
   "execution_count": 92,
   "metadata": {},
   "outputs": [
    {
     "name": "stderr",
     "output_type": "stream",
     "text": [
      "/tmp/ipykernel_24506/2030294794.py:17: DeprecationWarning: find_element_by_* commands are deprecated. Please use find_element() instead\n",
      "  name = driver.find_element_by_class_name('metadata__title').text\n",
      "/tmp/ipykernel_24506/2030294794.py:22: DeprecationWarning: find_element_by_* commands are deprecated. Please use find_element() instead\n",
      "  genre = driver.find_element_by_class_name('metadata__common').text[:-4]\n",
      "/tmp/ipykernel_24506/2030294794.py:27: DeprecationWarning: find_element_by_* commands are deprecated. Please use find_element() instead\n",
      "  year = driver.find_element_by_class_name('metadata__releasedate').text\n",
      "/tmp/ipykernel_24506/2030294794.py:30: DeprecationWarning: find_element_by_* commands are deprecated. Please use find_element() instead\n",
      "  year = driver.find_element_by_class_name('metadata__common').text[-4:]\n",
      "/tmp/ipykernel_24506/2030294794.py:34: DeprecationWarning: find_element_by_* commands are deprecated. Please use find_element() instead\n",
      "  description = driver.find_element_by_class_name('description').text\n"
     ]
    }
   ],
   "source": [
    "res = []\n",
    "\n",
    "options = webdriver.ChromeOptions()\n",
    "options.add_argument(\"no-sandbox\")\n",
    "options.add_argument(\"--headless\")\n",
    "options.add_argument(\"--disable-gpu\")\n",
    "\n",
    "driver = webdriver.Remote(\n",
    "    command_executor='http://172.30.110.112:4444',\n",
    "    options=options\n",
    ")\n",
    "\n",
    "for item in html_items:\n",
    "    driver.get(item)\n",
    "    time.sleep(1)\n",
    "    try:\n",
    "        name = driver.find_element_by_class_name('metadata__title').text\n",
    "    except:\n",
    "        name = None\n",
    "        \n",
    "    try:\n",
    "        genre = driver.find_element_by_class_name('metadata__common').text[:-4]\n",
    "    except:\n",
    "        genre = None\n",
    "        \n",
    "    try:\n",
    "        year = driver.find_element_by_class_name('metadata__releasedate').text\n",
    "            \n",
    "    except:\n",
    "        year = driver.find_element_by_class_name('metadata__common').text[-4:]\n",
    "        # year = None\n",
    "        \n",
    "    try:\n",
    "        description = driver.find_element_by_class_name('description').text\n",
    "    except:\n",
    "        description = None\n",
    "    res.append([item, name, year, countries_dict[country], genre, description])\n",
    "    time.sleep(1)\n",
    "\n",
    "driver.quit()"
   ]
  },
  {
   "cell_type": "code",
   "execution_count": 94,
   "metadata": {},
   "outputs": [],
   "source": [
    "kyivstar_serial = pd.DataFrame(res, columns=['item_url', 'name', 'year', 'country', 'genre', 'description'])\n",
    "kyivstar_serial['type'] = 'series'"
   ]
  },
  {
   "cell_type": "code",
   "execution_count": 68,
   "metadata": {},
   "outputs": [],
   "source": [
    "kyivstar_film = pd.DataFrame(res, columns=['item_url', 'name', 'year', 'country', 'genre', 'description'])\n",
    "kyivstar_film['type'] = 'film'"
   ]
  },
  {
   "cell_type": "code",
   "execution_count": 97,
   "metadata": {},
   "outputs": [],
   "source": [
    "kyivstar_export = pd.concat([kyivstar_serial, kyivstar_film], axis = 0)"
   ]
  },
  {
   "cell_type": "code",
   "execution_count": 102,
   "metadata": {},
   "outputs": [],
   "source": [
    "kyivstar_export.year = kyivstar_export.year.astype(int)\n",
    "kyivstar_export = kyivstar_export[kyivstar_export.year >= 2014]"
   ]
  },
  {
   "cell_type": "code",
   "execution_count": 106,
   "metadata": {},
   "outputs": [],
   "source": [
    "path = '/home/vmalyniak/home/jupyter/parse_megogo/'\n",
    "kyivstar_export.to_csv(path + 'kyivstar_export.csv')"
   ]
  },
  {
   "cell_type": "code",
   "execution_count": 108,
   "metadata": {},
   "outputs": [],
   "source": [
    "kyivstar_export.to_excel(path + 'kyivstar_export.xlsx')"
   ]
  }
 ],
 "metadata": {
  "kernelspec": {
   "display_name": "Python (myenv)",
   "language": "python",
   "name": "python3-virtualenv"
  },
  "language_info": {
   "codemirror_mode": {
    "name": "ipython",
    "version": 3
   },
   "file_extension": ".py",
   "mimetype": "text/x-python",
   "name": "python",
   "nbconvert_exporter": "python",
   "pygments_lexer": "ipython3",
   "version": "3.9.5"
  },
  "orig_nbformat": 4
 },
 "nbformat": 4,
 "nbformat_minor": 2
}
