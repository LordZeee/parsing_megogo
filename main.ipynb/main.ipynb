{
 "cells": [
  {
   "cell_type": "code",
   "execution_count": 4,
   "metadata": {},
   "outputs": [],
   "source": [
    "import time\n",
    "import requests\n",
    "from selenium import webdriver\n",
    "from bs4 import BeautifulSoup\n",
    "import pandas as pd"
   ]
  },
  {
   "cell_type": "code",
   "execution_count": 14,
   "metadata": {},
   "outputs": [
    {
     "name": "stdout",
     "output_type": "stream",
     "text": [
      "default -  https://megogo.net/ua/search-extended?category_id=16&country_id=ru&main_tab=filters&sort=popular&video_genre_id=melodrama&year_id=2021\n",
      "custom -  https://megogo.net/ua/search-extended?category_id=16&country_id=en&main_tab=filters&sort=popular&video_genre_id=adventure&year_id=2017\n"
     ]
    }
   ],
   "source": [
    "###### INIT ######\n",
    "init_country = 'ru' # ua,au,at,az,al,ar,aw,be,by,bg,ru\n",
    "init_category = 16 # films\n",
    "init_genre = 'melodrama' # comedy,action,detective,melodrama,thriller,horror,adventures,sport,fiction,crime\n",
    "init_year = '2021,2020,2016-2019' # 2021,2020,2016-2019,2010-2015,2000-2009,1990-1999,1980-1989,1970-1979,-1969\n",
    "\n",
    "url_sampler = lambda country = init_country, genre = init_genre, year = init_year: \\\n",
    "    f\"\"\"https://megogo.net/ua/search-extended?category_id=16&country_id={country}&main_tab=filters&sort=popular&video_genre_id={genre}&year_id={year}\"\"\"\n",
    "\n",
    "target_url = url_sampler()\n",
    "\n",
    "print('default - ', url_sampler())\n",
    "print('custom - ', url_sampler('en', 'adventure', '2017'))"
   ]
  },
  {
   "cell_type": "code",
   "execution_count": 15,
   "metadata": {},
   "outputs": [],
   "source": [
    "def try_search(driver, target):\n",
    "    \"\"\"Trying to find LOAD MORE button. If not exis, return False. List of items is full\n",
    "\n",
    "    Args:\n",
    "        driver (_type_): _description_\n",
    "        target (_type_): _description_\n",
    "\n",
    "    Returns:\n",
    "        _type_: _description_\n",
    "    \"\"\"\n",
    "    try:\n",
    "        driver.find_element_by_class_name(target).click()\n",
    "        return True\n",
    "    except:\n",
    "        return False"
   ]
  },
  {
   "cell_type": "code",
   "execution_count": 16,
   "metadata": {},
   "outputs": [
    {
     "name": "stderr",
     "output_type": "stream",
     "text": [
      "/tmp/ipykernel_31894/3284241410.py:12: DeprecationWarning: find_element_by_* commands are deprecated. Please use find_element() instead\n",
      "  driver.find_element_by_class_name(target).click()\n",
      "/tmp/ipykernel_31894/4196354492.py:34: DeprecationWarning: find_elements_by_* commands are deprecated. Please use find_elements() instead\n",
      "  items = driver.find_elements_by_class_name('videoItem')\n"
     ]
    }
   ],
   "source": [
    "##### For remote selenium server only #####\n",
    "\n",
    "##### To make this work, run :\n",
    "\n",
    "# wget https://github.com/SeleniumHQ/selenium/releases/download/selenium-4.1.0/selenium-server-4.1.2.jar\n",
    "\n",
    "# wget https://chromedriver.storage.googleapis.com/98.0.4758.80/chromedriver_linux64.zip\n",
    "\n",
    "# unzip chromedriver_linux64.zip\n",
    "\n",
    "# sudo mv -f chromedriver /usr/bin/chromedriver\n",
    "\n",
    "# wget https://dl.google.com/linux/direct/google-chrome-stable_current_x86_64.rpm\n",
    "\n",
    "# yum localinstall google-chrome-stable_current_x86_64.rpm\n",
    "\n",
    "# java -jar selenium-server-4.1.2.jar standalone --allow-cors true - Start selenium remote server \n",
    "\n",
    "options = webdriver.ChromeOptions()\n",
    "options.add_argument(\"no-sandbox\")\n",
    "options.add_argument(\"--headless\")\n",
    "options.add_argument(\"--disable-gpu\")\n",
    "\n",
    "driver = webdriver.Remote(\n",
    "    command_executor='http://172.30.110.112:4444',\n",
    "    options=options\n",
    ")\n",
    "driver.get(target_url)\n",
    "target_div = 'pagination-more'\n",
    "\n",
    "while try_search(driver, target_div):\n",
    "    time.sleep(1)\n",
    "\n",
    "items = driver.find_elements_by_class_name('videoItem')\n",
    "html_items = [item.get_attribute(\"outerHTML\") for item in items]\n",
    "\n",
    "driver.quit()"
   ]
  },
  {
   "cell_type": "code",
   "execution_count": null,
   "metadata": {},
   "outputs": [],
   "source": [
    "\n",
    "# ! Названия, год, страна, айтем url , / жанр "
   ]
  },
  {
   "cell_type": "code",
   "execution_count": 17,
   "metadata": {},
   "outputs": [],
   "source": [
    "def parse_megogo(html_item, parse_country: True):\n",
    "    \"\"\"Parsing html data from Megogo site. If parse_country passed True \n",
    "    and items list are big, site may block requests.\n",
    "\n",
    "    Args:\n",
    "        html_item (_type_): _description_\n",
    "        parse_country (True): _description_\n",
    "\n",
    "    Returns:\n",
    "        _type_: _description_\n",
    "    \"\"\"\n",
    "    try:\n",
    "        obj = BeautifulSoup(html_item, 'lxml')\n",
    "    except Exception (e):\n",
    "        print(e)\n",
    "        return [None] * 5 \n",
    "    \n",
    "    if parse_country:\n",
    "        try:\n",
    "            obj_page = BeautifulSoup(requests.get(list(obj.a.attrs.values())[0]).text, 'lxml')\n",
    "            country = obj_page.findAll('a', {'class' : 'video-country link-default'})[0].text\n",
    "        except:\n",
    "            country = None\n",
    "    else:\n",
    "        country = None\n",
    "        \n",
    "    try:\n",
    "        name, year = list(obj.a.attrs.values())\n",
    "    except:\n",
    "        name, year = None, None\n",
    "        \n",
    "    try:\n",
    "        item_url, genre = obj.findAll('span', {'class' :  'video-country'})[0].text, \\\n",
    "            obj.findAll('span', {'class' :  'video-year'})[0].text\n",
    "    except:\n",
    "        item_url, genre = None, None\n",
    "    \n",
    "    return [name, year, country, item_url, genre]"
   ]
  },
  {
   "cell_type": "code",
   "execution_count": 18,
   "metadata": {},
   "outputs": [],
   "source": [
    "res = pd.DataFrame([parse_megogo(item, parse_country = True) for item in html_items], \\\n",
    "                columns = ['item_url', 'name', 'country', 'genre', 'year'])"
   ]
  },
  {
   "cell_type": "code",
   "execution_count": 19,
   "metadata": {},
   "outputs": [
    {
     "name": "stdout",
     "output_type": "stream",
     "text": [
      "<class 'pandas.core.frame.DataFrame'>\n",
      "RangeIndex: 7 entries, 0 to 6\n",
      "Data columns (total 5 columns):\n",
      " #   Column    Non-Null Count  Dtype \n",
      "---  ------    --------------  ----- \n",
      " 0   item_url  7 non-null      object\n",
      " 1   name      7 non-null      object\n",
      " 2   country   7 non-null      object\n",
      " 3   genre     7 non-null      object\n",
      " 4   year      7 non-null      object\n",
      "dtypes: object(5)\n",
      "memory usage: 408.0+ bytes\n"
     ]
    }
   ],
   "source": [
    "res.info()"
   ]
  },
  {
   "cell_type": "code",
   "execution_count": 13,
   "metadata": {},
   "outputs": [],
   "source": [
    "path = '/home/vmalyniak/home/jupyter/parse_megogo/'\n",
    "res.to_csv(path + f'megogo_export_{time.ctime()}.csv')"
   ]
  },
  {
   "cell_type": "code",
   "execution_count": null,
   "metadata": {},
   "outputs": [],
   "source": []
  }
 ],
 "metadata": {
  "kernelspec": {
   "display_name": "Python (myenv)",
   "language": "python",
   "name": "python3-virtualenv"
  },
  "language_info": {
   "codemirror_mode": {
    "name": "ipython",
    "version": 3
   },
   "file_extension": ".py",
   "mimetype": "text/x-python",
   "name": "python",
   "nbconvert_exporter": "python",
   "pygments_lexer": "ipython3",
   "version": "3.9.5"
  },
  "orig_nbformat": 4
 },
 "nbformat": 4,
 "nbformat_minor": 2
}
